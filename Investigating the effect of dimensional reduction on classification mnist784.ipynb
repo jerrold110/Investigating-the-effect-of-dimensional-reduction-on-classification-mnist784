{
 "cells": [
  {
   "cell_type": "markdown",
   "metadata": {},
   "source": [
    "# Introduction\n",
    "This is an experiment to determine whether dimensional reduction with principal component analysis increases accuracy and decreases training time of machine learning classification algorithms, or makes it worse. \n",
    "\n",
    "The dataset used in this machine learning experiment is the MNIST784 dataset which is a dataset of pixel darkness values of a of a 28x28 grid of images of handwritten numbers written by children, and photographed. **Dimensional reduction reduces computation time** by reducing the number of dimensions the classifiers are trained with and use for classification and hence the number of operations the machine needs to run. As there are 784 dimensions (1 for each pixel) in the dataset - which is many - there is large potential for dimensional reduction to improve machine learning training time and classification accuracy.\n",
    "\n",
    "The classifiers attempt to classify the number in the image the drawing was taken of by being trained on the label data provided in the first column.\n",
    "\n",
    "The algorithms tested are made up of tree based methods and linear space methods\n",
    "* decision tree\n",
    "* random forest\n",
    "* stochastic gradient descent\n",
    "* support vector machine\n",
    "* xgboost\n",
    "* k nearest neighbors \n",
    " "
   ]
  },
  {
   "cell_type": "code",
   "execution_count": 1,
   "metadata": {},
   "outputs": [],
   "source": [
    "import numpy as np\n",
    "import pandas as pd\n",
    "import matplotlib as mpl\n",
    "import matplotlib.pyplot as plt\n",
    "plt.style.use('bmh')\n",
    "import time\n",
    "\n",
    "from sklearn.preprocessing import StandardScaler, MinMaxScaler #SS for pca\n",
    "from sklearn.decomposition import PCA\n",
    "from sklearn.metrics import accuracy_score\n",
    "\n",
    "from sklearn.pipeline import Pipeline\n",
    "from sklearn.model_selection import GridSearchCV\n",
    "from sklearn.model_selection import cross_val_score\n",
    "\n",
    "#the sklearn version of gradient boost is unusable due its long training time as it does not supprt multithreading\n",
    "from sklearn.svm import SVC\n",
    "from sklearn.tree import DecisionTreeClassifier\n",
    "from sklearn.ensemble import RandomForestClassifier\n",
    "from sklearn.linear_model import SGDClassifier #scale data and tune\n",
    "import xgboost as xgb \n",
    "from sklearn.neighbors import KNeighborsClassifier"
   ]
  },
  {
   "cell_type": "code",
   "execution_count": 2,
   "metadata": {},
   "outputs": [],
   "source": [
    "train = pd.read_csv('data/mnist_train.csv', header='infer')\n",
    "test = pd.read_csv('data/mnist_test.csv', header='infer')"
   ]
  },
  {
   "cell_type": "code",
   "execution_count": 3,
   "metadata": {
    "scrolled": true
   },
   "outputs": [
    {
     "data": {
      "text/html": [
       "<div>\n",
       "<style scoped>\n",
       "    .dataframe tbody tr th:only-of-type {\n",
       "        vertical-align: middle;\n",
       "    }\n",
       "\n",
       "    .dataframe tbody tr th {\n",
       "        vertical-align: top;\n",
       "    }\n",
       "\n",
       "    .dataframe thead th {\n",
       "        text-align: right;\n",
       "    }\n",
       "</style>\n",
       "<table border=\"1\" class=\"dataframe\">\n",
       "  <thead>\n",
       "    <tr style=\"text-align: right;\">\n",
       "      <th></th>\n",
       "      <th>label</th>\n",
       "      <th>1x1</th>\n",
       "      <th>1x2</th>\n",
       "      <th>1x3</th>\n",
       "      <th>1x4</th>\n",
       "      <th>1x5</th>\n",
       "      <th>1x6</th>\n",
       "      <th>1x7</th>\n",
       "      <th>1x8</th>\n",
       "      <th>1x9</th>\n",
       "      <th>...</th>\n",
       "      <th>28x19</th>\n",
       "      <th>28x20</th>\n",
       "      <th>28x21</th>\n",
       "      <th>28x22</th>\n",
       "      <th>28x23</th>\n",
       "      <th>28x24</th>\n",
       "      <th>28x25</th>\n",
       "      <th>28x26</th>\n",
       "      <th>28x27</th>\n",
       "      <th>28x28</th>\n",
       "    </tr>\n",
       "  </thead>\n",
       "  <tbody>\n",
       "    <tr>\n",
       "      <th>0</th>\n",
       "      <td>5</td>\n",
       "      <td>0</td>\n",
       "      <td>0</td>\n",
       "      <td>0</td>\n",
       "      <td>0</td>\n",
       "      <td>0</td>\n",
       "      <td>0</td>\n",
       "      <td>0</td>\n",
       "      <td>0</td>\n",
       "      <td>0</td>\n",
       "      <td>...</td>\n",
       "      <td>0</td>\n",
       "      <td>0</td>\n",
       "      <td>0</td>\n",
       "      <td>0</td>\n",
       "      <td>0</td>\n",
       "      <td>0</td>\n",
       "      <td>0</td>\n",
       "      <td>0</td>\n",
       "      <td>0</td>\n",
       "      <td>0</td>\n",
       "    </tr>\n",
       "    <tr>\n",
       "      <th>1</th>\n",
       "      <td>0</td>\n",
       "      <td>0</td>\n",
       "      <td>0</td>\n",
       "      <td>0</td>\n",
       "      <td>0</td>\n",
       "      <td>0</td>\n",
       "      <td>0</td>\n",
       "      <td>0</td>\n",
       "      <td>0</td>\n",
       "      <td>0</td>\n",
       "      <td>...</td>\n",
       "      <td>0</td>\n",
       "      <td>0</td>\n",
       "      <td>0</td>\n",
       "      <td>0</td>\n",
       "      <td>0</td>\n",
       "      <td>0</td>\n",
       "      <td>0</td>\n",
       "      <td>0</td>\n",
       "      <td>0</td>\n",
       "      <td>0</td>\n",
       "    </tr>\n",
       "    <tr>\n",
       "      <th>2</th>\n",
       "      <td>4</td>\n",
       "      <td>0</td>\n",
       "      <td>0</td>\n",
       "      <td>0</td>\n",
       "      <td>0</td>\n",
       "      <td>0</td>\n",
       "      <td>0</td>\n",
       "      <td>0</td>\n",
       "      <td>0</td>\n",
       "      <td>0</td>\n",
       "      <td>...</td>\n",
       "      <td>0</td>\n",
       "      <td>0</td>\n",
       "      <td>0</td>\n",
       "      <td>0</td>\n",
       "      <td>0</td>\n",
       "      <td>0</td>\n",
       "      <td>0</td>\n",
       "      <td>0</td>\n",
       "      <td>0</td>\n",
       "      <td>0</td>\n",
       "    </tr>\n",
       "    <tr>\n",
       "      <th>3</th>\n",
       "      <td>1</td>\n",
       "      <td>0</td>\n",
       "      <td>0</td>\n",
       "      <td>0</td>\n",
       "      <td>0</td>\n",
       "      <td>0</td>\n",
       "      <td>0</td>\n",
       "      <td>0</td>\n",
       "      <td>0</td>\n",
       "      <td>0</td>\n",
       "      <td>...</td>\n",
       "      <td>0</td>\n",
       "      <td>0</td>\n",
       "      <td>0</td>\n",
       "      <td>0</td>\n",
       "      <td>0</td>\n",
       "      <td>0</td>\n",
       "      <td>0</td>\n",
       "      <td>0</td>\n",
       "      <td>0</td>\n",
       "      <td>0</td>\n",
       "    </tr>\n",
       "    <tr>\n",
       "      <th>4</th>\n",
       "      <td>9</td>\n",
       "      <td>0</td>\n",
       "      <td>0</td>\n",
       "      <td>0</td>\n",
       "      <td>0</td>\n",
       "      <td>0</td>\n",
       "      <td>0</td>\n",
       "      <td>0</td>\n",
       "      <td>0</td>\n",
       "      <td>0</td>\n",
       "      <td>...</td>\n",
       "      <td>0</td>\n",
       "      <td>0</td>\n",
       "      <td>0</td>\n",
       "      <td>0</td>\n",
       "      <td>0</td>\n",
       "      <td>0</td>\n",
       "      <td>0</td>\n",
       "      <td>0</td>\n",
       "      <td>0</td>\n",
       "      <td>0</td>\n",
       "    </tr>\n",
       "  </tbody>\n",
       "</table>\n",
       "<p>5 rows × 785 columns</p>\n",
       "</div>"
      ],
      "text/plain": [
       "   label  1x1  1x2  1x3  1x4  1x5  1x6  1x7  1x8  1x9  ...  28x19  28x20  \\\n",
       "0      5    0    0    0    0    0    0    0    0    0  ...      0      0   \n",
       "1      0    0    0    0    0    0    0    0    0    0  ...      0      0   \n",
       "2      4    0    0    0    0    0    0    0    0    0  ...      0      0   \n",
       "3      1    0    0    0    0    0    0    0    0    0  ...      0      0   \n",
       "4      9    0    0    0    0    0    0    0    0    0  ...      0      0   \n",
       "\n",
       "   28x21  28x22  28x23  28x24  28x25  28x26  28x27  28x28  \n",
       "0      0      0      0      0      0      0      0      0  \n",
       "1      0      0      0      0      0      0      0      0  \n",
       "2      0      0      0      0      0      0      0      0  \n",
       "3      0      0      0      0      0      0      0      0  \n",
       "4      0      0      0      0      0      0      0      0  \n",
       "\n",
       "[5 rows x 785 columns]"
      ]
     },
     "execution_count": 3,
     "metadata": {},
     "output_type": "execute_result"
    }
   ],
   "source": [
    "train.head()"
   ]
  },
  {
   "cell_type": "code",
   "execution_count": 4,
   "metadata": {
    "scrolled": true
   },
   "outputs": [
    {
     "name": "stdout",
     "output_type": "stream",
     "text": [
      "0\n",
      "0\n"
     ]
    }
   ],
   "source": [
    "print(train.isna().any().sum())\n",
    "print(test.isna().any().sum())"
   ]
  },
  {
   "cell_type": "raw",
   "metadata": {},
   "source": [
    "No missing data in both datasets. Good."
   ]
  },
  {
   "cell_type": "code",
   "execution_count": 5,
   "metadata": {},
   "outputs": [
    {
     "data": {
      "image/png": "[encoded data removed]",
      "text/plain": [
       "<Figure size 1080x432 with 1 Axes>"
      ]
     },
     "metadata": {
      "needs_background": "light"
     },
     "output_type": "display_data"
    }
   ],
   "source": [
    "train_f = train.groupby('label')['label'].count()\n",
    "test_f = test.groupby('label')['label'].count()\n",
    "\n",
    "plt.rcParams['figure.figsize']=(15, 6) \n",
    "plt.rc('font', size=10)\n",
    "\n",
    "fig, ax = plt.subplots()\n",
    "ax.bar(train_f.index, train_f, label='Training data')\n",
    "ax.bar(test_f.index, test_f, label='Testing data')\n",
    "ax.set_xlabel(\"Image label\")\n",
    "ax.set_ylabel(\"Number of data points\")\n",
    "ax.set_title('Frequency of each digit in the train and test data')\n",
    "ax.legend()\n",
    "plt.xticks(ticks=np.arange(10), labels=['0','1','2','3','4','5','6','7','8','9'], fontsize=16)\n",
    "plt.show()"
   ]
  },
  {
   "cell_type": "code",
   "execution_count": 6,
   "metadata": {},
   "outputs": [
    {
     "data": {
      "image/png": "[encoded data removed]",
      "text/plain": [
       "<Figure size 288x288 with 1 Axes>"
      ]
     },
     "metadata": {
      "needs_background": "light"
     },
     "output_type": "display_data"
    }
   ],
   "source": [
    "plt.rcParams['figure.figsize']=(4, 4) \n",
    "some_digit = train.iloc[1,1:].values\n",
    "some_digit_image = some_digit.reshape(28, 28)\n",
    "plt.imshow(some_digit_image, cmap=mpl.cm.binary, interpolation=\"nearest\")\n",
    "plt.show()"
   ]
  },
  {
   "cell_type": "code",
   "execution_count": 7,
   "metadata": {},
   "outputs": [
    {
     "name": "stdout",
     "output_type": "stream",
     "text": [
      "1x1      0\n",
      "1x2      0\n",
      "1x3      0\n",
      "1x4      0\n",
      "1x5      0\n",
      "        ..\n",
      "28x24    0\n",
      "28x25    0\n",
      "28x26    0\n",
      "28x27    0\n",
      "28x28    0\n",
      "Name: 1, Length: 784, dtype: int64\n"
     ]
    }
   ],
   "source": [
    "print(train.iloc[1,1:])"
   ]
  },
  {
   "cell_type": "raw",
   "metadata": {},
   "source": [
    "The numbers confirm that the in column header AxB, A is the row number starting at the top, B is the column number starting at the left"
   ]
  },
  {
   "cell_type": "code",
   "execution_count": 3,
   "metadata": {},
   "outputs": [],
   "source": [
    "x_train = train.iloc[:,1:]\n",
    "y_train = train.iloc[:,0]\n",
    "\n",
    "x_test = test.iloc[:,1:]\n",
    "y_test = test.iloc[:,0]"
   ]
  },
  {
   "cell_type": "raw",
   "metadata": {},
   "source": [
    "Scaling the train and test data for PCA"
   ]
  },
  {
   "cell_type": "code",
   "execution_count": 4,
   "metadata": {},
   "outputs": [],
   "source": [
    "scaler = StandardScaler()\n",
    "scaler.fit(x_train)\n",
    "x_train_ = scaler.transform(x_train)\n",
    "\n",
    "scaler2 = StandardScaler()\n",
    "scaler2.fit(x_test)\n",
    "x_test_ = scaler2.transform(x_test)"
   ]
  },
  {
   "cell_type": "code",
   "execution_count": 20,
   "metadata": {},
   "outputs": [],
   "source": [
    "pca_res = {'percentage of variance':[],'number of features (from 784)':[], 'D tree training time':[], 'Accuracy':[]}"
   ]
  },
  {
   "cell_type": "code",
   "execution_count": 21,
   "metadata": {},
   "outputs": [],
   "source": [
    "unusedDT = DecisionTreeClassifier()\n",
    "for t in [None, .95, .9, .75, .5]: #None is 100% of the variance\n",
    "    pca = PCA(t)\n",
    "    pca.fit(x_train_)\n",
    "    pca_train = pca.transform(x_train_)\n",
    "    pca_test = pca.transform(x_test_)\n",
    "    \n",
    "    start_time = time.time()\n",
    "    unusedDT.fit(pca_train, y_train)\n",
    "    timetaken = round(time.time()-start_time, 2)\n",
    "    a = accuracy_score(y_test, unusedDT.predict(pca_test))\n",
    "    \n",
    "    pca_res['percentage of variance'].append(t)\n",
    "    pca_res['number of features (from 784)'].append(pca_train.shape[1])\n",
    "    pca_res['D tree training time'].append(timetaken)\n",
    "    pca_res['Accuracy'].append(a)"
   ]
  },
  {
   "cell_type": "code",
   "execution_count": 22,
   "metadata": {},
   "outputs": [
    {
     "data": {
      "text/html": [
       "<div>\n",
       "<style scoped>\n",
       "    .dataframe tbody tr th:only-of-type {\n",
       "        vertical-align: middle;\n",
       "    }\n",
       "\n",
       "    .dataframe tbody tr th {\n",
       "        vertical-align: top;\n",
       "    }\n",
       "\n",
       "    .dataframe thead th {\n",
       "        text-align: right;\n",
       "    }\n",
       "</style>\n",
       "<table border=\"1\" class=\"dataframe\">\n",
       "  <thead>\n",
       "    <tr style=\"text-align: right;\">\n",
       "      <th></th>\n",
       "      <th>percentage of variance</th>\n",
       "      <th>number of features (from 784)</th>\n",
       "      <th>D tree training time</th>\n",
       "      <th>Accuracy</th>\n",
       "    </tr>\n",
       "  </thead>\n",
       "  <tbody>\n",
       "    <tr>\n",
       "      <th>0</th>\n",
       "      <td>NaN</td>\n",
       "      <td>784</td>\n",
       "      <td>142.10</td>\n",
       "      <td>0.8140</td>\n",
       "    </tr>\n",
       "    <tr>\n",
       "      <th>1</th>\n",
       "      <td>0.95</td>\n",
       "      <td>331</td>\n",
       "      <td>62.17</td>\n",
       "      <td>0.8235</td>\n",
       "    </tr>\n",
       "    <tr>\n",
       "      <th>2</th>\n",
       "      <td>0.90</td>\n",
       "      <td>236</td>\n",
       "      <td>43.58</td>\n",
       "      <td>0.8274</td>\n",
       "    </tr>\n",
       "    <tr>\n",
       "      <th>3</th>\n",
       "      <td>0.75</td>\n",
       "      <td>120</td>\n",
       "      <td>20.90</td>\n",
       "      <td>0.8329</td>\n",
       "    </tr>\n",
       "    <tr>\n",
       "      <th>4</th>\n",
       "      <td>0.50</td>\n",
       "      <td>39</td>\n",
       "      <td>6.66</td>\n",
       "      <td>0.8467</td>\n",
       "    </tr>\n",
       "  </tbody>\n",
       "</table>\n",
       "</div>"
      ],
      "text/plain": [
       "   percentage of variance  number of features (from 784)  \\\n",
       "0                     NaN                            784   \n",
       "1                    0.95                            331   \n",
       "2                    0.90                            236   \n",
       "3                    0.75                            120   \n",
       "4                    0.50                             39   \n",
       "\n",
       "   D tree training time  Accuracy  \n",
       "0                142.10    0.8140  \n",
       "1                 62.17    0.8235  \n",
       "2                 43.58    0.8274  \n",
       "3                 20.90    0.8329  \n",
       "4                  6.66    0.8467  "
      ]
     },
     "execution_count": 22,
     "metadata": {},
     "output_type": "execute_result"
    }
   ],
   "source": [
    "pca_df = pd.DataFrame(pca_res)\n",
    "pca_df"
   ]
  },
  {
   "cell_type": "code",
   "execution_count": 19,
   "metadata": {},
   "outputs": [
    {
     "name": "stdout",
     "output_type": "stream",
     "text": [
      "Amount of variance explained by features\n"
     ]
    },
    {
     "data": {
      "image/png": "[encoded data removed]",
      "text/plain": [
       "<Figure size 288x288 with 1 Axes>"
      ]
     },
     "metadata": {
      "needs_background": "light"
     },
     "output_type": "display_data"
    }
   ],
   "source": [
    "pca2 = PCA().fit(x_train_)\n",
    "pca2_train = pca2.transform(x_train_)\n",
    "print('Amount of variance explained by features')\n",
    "plt.plot(pca2.explained_variance_ratio_)\n",
    "plt.show()"
   ]
  },
  {
   "cell_type": "markdown",
   "metadata": {},
   "source": [
    "### Results\n",
    "\n",
    "The training time is more than halved at 0.95 variance while actually improving accuracy. This is the threshold I will use.\n",
    "\n",
    "There are unusual results in this experiment. It seems that reducing the dimensions down to 39 where only 50% of the variance remains results in the most accurate classification. \n",
    "\n",
    "### Explanation of results\n",
    "The results would suggest that reducing the dimensions to 39 is the best approach, however I eschew that notion because it is probably because there is a bias in the decision tree classifier towards accurtely predicting the images(0-9) that starts from 0.9-0.75 since the accuracy counterintuitively starts to go up. This would not well in the other algorithms, and could be extremely deleterious for putting this into production. However it may be promising for K means clustering later on which does not perform well on high dimensional datasets."
   ]
  },
  {
   "cell_type": "markdown",
   "metadata": {},
   "source": [
    "## Dimensional reduction with PCA\n",
    "Data has already been scaled in the above cells"
   ]
  },
  {
   "cell_type": "code",
   "execution_count": 5,
   "metadata": {},
   "outputs": [],
   "source": [
    "pca = PCA(.95)\n",
    "pca.fit(x_train_)\n",
    "pca_train = pca.transform(x_train_)\n",
    "pca_test = pca.transform(x_test_)"
   ]
  },
  {
   "cell_type": "code",
   "execution_count": 6,
   "metadata": {},
   "outputs": [
    {
     "name": "stdout",
     "output_type": "stream",
     "text": [
      "331\n",
      "331\n"
     ]
    }
   ],
   "source": [
    "print(pca_train.shape[1])\n",
    "print(pca_test.shape[1])"
   ]
  },
  {
   "cell_type": "markdown",
   "metadata": {},
   "source": [
    "## Decision Tree"
   ]
  },
  {
   "cell_type": "code",
   "execution_count": 13,
   "metadata": {},
   "outputs": [
    {
     "name": "stdout",
     "output_type": "stream",
     "text": [
      "time taken without PCA: 19.05S\n",
      "training accuracy: 1.0\n",
      "testing accuracy: 0.8791\n"
     ]
    }
   ],
   "source": [
    "a0 = DecisionTreeClassifier()\n",
    "start_time = time.time()\n",
    "a0.fit(x_train, y_train)\n",
    "timetaken = round(time.time()-start_time, 2)\n",
    "print(f'time taken without PCA: {timetaken}S')\n",
    "\n",
    "y_hat = a0.predict(x_train)\n",
    "print(f'training accuracy: {accuracy_score(y_train, y_hat)}')\n",
    "y_hat = a0.predict(x_test)\n",
    "print(f'testing accuracy: {accuracy_score(y_test, y_hat)}')"
   ]
  },
  {
   "cell_type": "code",
   "execution_count": 14,
   "metadata": {},
   "outputs": [
    {
     "name": "stdout",
     "output_type": "stream",
     "text": [
      "time taken with PCA: 57.5S\n",
      "training accuracy: 1.0\n",
      "testing accuracy: 0.8265\n"
     ]
    }
   ],
   "source": [
    "a0 = DecisionTreeClassifier()\n",
    "start_time = time.time()\n",
    "a0.fit(pca_train, y_train)\n",
    "timetaken = round(time.time()-start_time, 2)\n",
    "print(f'time taken with PCA: {timetaken}S')\n",
    "\n",
    "y_hat = a0.predict(pca_train)\n",
    "print(f'training accuracy: {accuracy_score(y_train, y_hat)}')\n",
    "y_hat = a0.predict(pca_test)\n",
    "print(f'testing accuracy: {accuracy_score(y_test, y_hat)}')"
   ]
  },
  {
   "cell_type": "markdown",
   "metadata": {},
   "source": [
    "## Random Forest"
   ]
  },
  {
   "cell_type": "code",
   "execution_count": 28,
   "metadata": {},
   "outputs": [
    {
     "name": "stdout",
     "output_type": "stream",
     "text": [
      "time taken without PCA: 41.6S\n",
      "training accuracy: 1.0\n",
      "testing accuracy: 0.9708\n"
     ]
    }
   ],
   "source": [
    "a1 = RandomForestClassifier()\n",
    "start_time = time.time()\n",
    "a1.fit(x_train, y_train)\n",
    "timetaken = round(time.time()-start_time, 2)\n",
    "print(f'time taken without PCA: {timetaken}S')\n",
    "\n",
    "y_hat = a1.predict(x_train)\n",
    "print(f'training accuracy: {accuracy_score(y_train, y_hat)}')\n",
    "y_hat = a1.predict(x_test)\n",
    "print(f'testing accuracy: {accuracy_score(y_test, y_hat)}')"
   ]
  },
  {
   "cell_type": "code",
   "execution_count": 29,
   "metadata": {},
   "outputs": [
    {
     "name": "stdout",
     "output_type": "stream",
     "text": [
      "time taken with PCA: 135.75S\n",
      "training accuracy: 1.0\n",
      "testing accuracy: 0.9371\n"
     ]
    }
   ],
   "source": [
    "a1 = RandomForestClassifier()\n",
    "start_time = time.time()\n",
    "a1.fit(pca_train, y_train)\n",
    "timetaken = round(time.time()-start_time, 2)\n",
    "print(f'time taken with PCA: {timetaken}S')\n",
    "\n",
    "y_hat = a1.predict(pca_train)\n",
    "print(f'training accuracy: {accuracy_score(y_train, y_hat)}')\n",
    "y_hat = a1.predict(pca_test)\n",
    "print(f'testing accuracy: {accuracy_score(y_test, y_hat)}')"
   ]
  },
  {
   "cell_type": "markdown",
   "metadata": {},
   "source": [
    "## Stochastic Gradient Descent\n",
    "- SGD is very sensitive to parameter tuning and feature scaling"
   ]
  },
  {
   "cell_type": "code",
   "execution_count": 29,
   "metadata": {},
   "outputs": [
    {
     "name": "stdout",
     "output_type": "stream",
     "text": [
      "time taken without PCA: 111.88S\n",
      "training accuracy: 0.9046\n",
      "testing accuracy: 0.9006\n"
     ]
    }
   ],
   "source": [
    "a3 = SGDClassifier(n_jobs=8)\n",
    "start_time = time.time()\n",
    "a3.fit(x_train_, y_train)\n",
    "timetaken = round(time.time()-start_time, 2)\n",
    "print(f'time taken without PCA: {timetaken}S')\n",
    "\n",
    "y_hat = a3.predict(x_train_)\n",
    "print(f'training accuracy: {accuracy_score(y_train, y_hat)}')\n",
    "Y_hat = a3.predict(x_test_)\n",
    "print(f'testing accuracy: {accuracy_score(y_test, Y_hat)}')"
   ]
  },
  {
   "cell_type": "code",
   "execution_count": 5,
   "metadata": {},
   "outputs": [
    {
     "name": "stdout",
     "output_type": "stream",
     "text": [
      "<bound method Pipeline.get_params of Pipeline(steps=[('scaler', StandardScaler()),\n",
      "                ('sgd',\n",
      "                 SGDClassifier(alpha=1e-05, early_stopping=True, eta0=0.001,\n",
      "                               l1_ratio=0, n_iter_no_change=15, n_jobs=8,\n",
      "                               penalty='elasticnet', power_t=0.25))])>\n",
      "training accuracy: 0.9195333333333333\n",
      "testing accuracy: 0.9123\n"
     ]
    }
   ],
   "source": [
    "steps = [('scaler',StandardScaler()), \n",
    "         ('sgd',SGDClassifier(n_jobs=8))]\n",
    "pipeline = Pipeline(steps)\n",
    "\n",
    "# There should be two underscores between estimator name and it's parameters in a Pipeline\n",
    "\n",
    "param = {'sgd__loss':['hinge','epsilon_insensitive'], # Not working with loss\n",
    "         'sgd__penalty':['elasticnet'], # no l1 as features already reduced\n",
    "         'sgd__alpha':np.arange(0.00001, 0.001, 5),\n",
    "         'sgd__l1_ratio':np.arange(0, 1, 5),\n",
    "         'sgd__max_iter':[500,1000],\n",
    "         'sgd__eta0':[0.001],   #initial learning rate\n",
    "         'sgd__learning_rate':['constant','optimal'],\n",
    "         'sgd__power_t':[0.25,0.50,0.75],\n",
    "         'sgd__early_stopping':[True],\n",
    "         'sgd__n_iter_no_change':[15]}\n",
    "\n",
    "pipelinecv = GridSearchCV(pipeline, param_grid=param, scoring='accuracy')\n",
    "pipelinecv.fit(x_train, y_train)\n",
    "print(pipelinecv.best_estimator_.get_params)\n",
    "\n",
    "y_hat = pipelinecv.predict(x_train)\n",
    "print(f'training accuracy: {accuracy_score(y_train, y_hat)}')\n",
    "Y_hat = pipelinecv.predict(x_test)\n",
    "print(f'testing accuracy: {accuracy_score(y_test, Y_hat)}')"
   ]
  },
  {
   "cell_type": "code",
   "execution_count": 30,
   "metadata": {},
   "outputs": [
    {
     "name": "stdout",
     "output_type": "stream",
     "text": [
      "time taken: 12.18S\n",
      "training accuracy: 0.8410166666666666\n",
      "training accuracy: 0.844\n"
     ]
    }
   ],
   "source": [
    "a3 = SGDClassifier(n_jobs=8)\n",
    "\n",
    "start_time = time.time()\n",
    "a3.fit(pca_train, y_train)\n",
    "timetaken = round(time.time()-start_time, 2)\n",
    "print(f'time taken: {timetaken}S')\n",
    "   \n",
    "y_hat = a3.predict(pca_train)\n",
    "print(f'training accuracy: {accuracy_score(y_train, y_hat)}')\n",
    "Y_hat = a3.predict(pca_test)\n",
    "print(f'training accuracy: {accuracy_score(y_test, Y_hat)}')"
   ]
  },
  {
   "cell_type": "code",
   "execution_count": 50,
   "metadata": {},
   "outputs": [
    {
     "name": "stdout",
     "output_type": "stream",
     "text": [
      "<bound method BaseEstimator.get_params of SGDClassifier(alpha=1e-05, early_stopping=True, eta0=0.001, l1_ratio=0,\n",
      "              learning_rate='constant', n_iter_no_change=15, n_jobs=8,\n",
      "              penalty='elasticnet', power_t=0.25)>\n",
      "training accuracy: 0.9162\n",
      "training accuracy: 0.9147\n"
     ]
    }
   ],
   "source": [
    "a3 = SGDClassifier(n_jobs=8)\n",
    "\n",
    "param = {'loss':['hinge','epsilon_insensitive'], # Not working with loss\n",
    "         'penalty':['elasticnet'], # no l1 as features already reduced\n",
    "         'alpha':np.arange(0.00001, 0.001, 5),\n",
    "         'l1_ratio':np.arange(0, 1, 5),\n",
    "         'max_iter':[500,1000],\n",
    "         'eta0':[0.001],   #initial learning rate\n",
    "         'learning_rate':['constant','optimal'],\n",
    "         'power_t':[0.25,0.50,0.75],\n",
    "         'early_stopping':[True],\n",
    "         'n_iter_no_change':[15]}\n",
    "\n",
    "a3cv = GridSearchCV(a3, param_grid=param, scoring='accuracy')\n",
    "a3cv.fit(pca_train, y_train)\n",
    "print(a3cv.best_estimator_.get_params)\n",
    "y_hat = a3cv.predict(pca_train)\n",
    "print(f'training accuracy: {accuracy_score(y_train, y_hat)}')\n",
    "Y_hat = a3cv.predict(pca_test)\n",
    "print(f'training accuracy: {accuracy_score(y_test, Y_hat)}')"
   ]
  },
  {
   "cell_type": "markdown",
   "metadata": {},
   "source": [
    "## XGBoost"
   ]
  },
  {
   "cell_type": "code",
   "execution_count": 7,
   "metadata": {},
   "outputs": [
    {
     "name": "stdout",
     "output_type": "stream",
     "text": [
      "time taken without PCA: 533.82S\n"
     ]
    },
    {
     "name": "stderr",
     "output_type": "stream",
     "text": [
      "D:\\INSTALLATION_FOLDER\\Anaconda\\lib\\site-packages\\xgboost\\data.py:112: UserWarning: Use subset (sliced data) of np.ndarray is not recommended because it will generate extra copies and increase memory consumption\n",
      "  warnings.warn(\n"
     ]
    },
    {
     "name": "stdout",
     "output_type": "stream",
     "text": [
      "training accuracy: 1.0\n",
      "training accuracy: 0.9729\n"
     ]
    }
   ],
   "source": [
    "a4 = xgb.XGBClassifier(use_label_encoder=False, nthread=4, verbosity=0)\n",
    "start_time = time.time()\n",
    "a4.fit(x_train, y_train)\n",
    "timetaken = round(time.time()-start_time, 2)\n",
    "print(f'time taken without PCA: {timetaken}S')\n",
    "   \n",
    "y_hat = a4.predict(x_train)\n",
    "print(f'training accuracy: {accuracy_score(y_train, y_hat)}')\n",
    "Y_hat = a4.predict(x_test)\n",
    "print(f'training accuracy: {accuracy_score(y_test, Y_hat)}')"
   ]
  },
  {
   "cell_type": "code",
   "execution_count": 30,
   "metadata": {},
   "outputs": [
    {
     "name": "stdout",
     "output_type": "stream",
     "text": [
      "time taken with PCA: 1824.36S\n",
      "training accuracy: 1.0\n",
      "training accuracy: 0.9595\n"
     ]
    }
   ],
   "source": [
    "a4 = xgb.XGBClassifier(use_label_encoder=False, nthread=4, verbosity=0)\n",
    "\n",
    "start_time = time.time()\n",
    "a4.fit(pca_train, y_train)\n",
    "timetaken = round(time.time()-start_time, 2)\n",
    "print(f'time taken with PCA: {timetaken}S')\n",
    "   \n",
    "y_hat = a4.predict(pca_train)\n",
    "print(f'training accuracy: {accuracy_score(y_train, y_hat)}')\n",
    "Y_hat = a4.predict(pca_test)\n",
    "print(f'training accuracy: {accuracy_score(y_test, Y_hat)}')"
   ]
  },
  {
   "cell_type": "markdown",
   "metadata": {},
   "source": [
    "## Support vector machine"
   ]
  },
  {
   "cell_type": "code",
   "execution_count": 7,
   "metadata": {},
   "outputs": [
    {
     "name": "stdout",
     "output_type": "stream",
     "text": [
      "time taken without PCA: 466.15S\n",
      "training accuracy: 0.9899166666666667\n",
      "testing accuracy: 0.9792\n"
     ]
    }
   ],
   "source": [
    "a5 = SVC()\n",
    "start_time = time.time()\n",
    "a5.fit(x_train, y_train)\n",
    "timetaken = round(time.time()-start_time, 2)\n",
    "print(f'time taken without PCA: {timetaken}S')\n",
    "\n",
    "y_hat = a5.predict(x_train)\n",
    "print(f'training accuracy: {accuracy_score(y_train, y_hat)}')\n",
    "y_hat = a5.predict(x_test)\n",
    "print(f'testing accuracy: {accuracy_score(y_test, y_hat)}')"
   ]
  },
  {
   "cell_type": "code",
   "execution_count": 8,
   "metadata": {},
   "outputs": [
    {
     "name": "stdout",
     "output_type": "stream",
     "text": [
      "time taken with PCA: 340.6S\n",
      "training accuracy: 0.9854666666666667\n",
      "testing accuracy: 0.9679\n"
     ]
    }
   ],
   "source": [
    "a5 = SVC()\n",
    "start_time = time.time()\n",
    "a5.fit(pca_train, y_train)\n",
    "timetaken = round(time.time()-start_time, 2)\n",
    "print(f'time taken with PCA: {timetaken}S')\n",
    "\n",
    "y_hat = a5.predict(pca_train)\n",
    "print(f'training accuracy: {accuracy_score(y_train, y_hat)}')\n",
    "y_hat = a5.predict(pca_test)\n",
    "print(f'testing accuracy: {accuracy_score(y_test, y_hat)}')"
   ]
  },
  {
   "cell_type": "markdown",
   "metadata": {},
   "source": [
    "## K nearest neighbours\n",
    "Tested with different scaling methods on the non reduced data. Algorithsm has been set to brute to standardize the experiment\n",
    "- Normalized data\n",
    "- Standardized data\n",
    "- Pca reduced data"
   ]
  },
  {
   "cell_type": "code",
   "execution_count": 18,
   "metadata": {},
   "outputs": [
    {
     "name": "stdout",
     "output_type": "stream",
     "text": [
      "training accuracy: 0.9818833333333333\n",
      "time taken to predict training data: 174.16S\n",
      "training accuracy: 0.9688\n",
      "time taken to predict training data: 29.07S\n"
     ]
    }
   ],
   "source": [
    "steps = [('scaler',MinMaxScaler()), ('knn',KNeighborsClassifier(algorithm='brute', n_jobs=8))]\n",
    "pipelineb1 = Pipeline(steps)\n",
    "pipelineb1.fit(x_train, y_train)\n",
    "\n",
    "start_time = time.time()\n",
    "y_hat = pipelineb1.predict(x_train)\n",
    "timetaken = round(time.time()-start_time, 2)\n",
    "print(f'training accuracy: {accuracy_score(y_train, y_hat)}')\n",
    "print(f'time taken to predict training data: {timetaken}S')\n",
    "\n",
    "start_time = time.time()\n",
    "Y_hat = pipelineb1.predict(x_test)\n",
    "timetaken = round(time.time()-start_time, 2)\n",
    "print(f'training accuracy: {accuracy_score(y_test, Y_hat)}')\n",
    "print(f'time taken to predict training data: {timetaken}S')"
   ]
  },
  {
   "cell_type": "code",
   "execution_count": 19,
   "metadata": {},
   "outputs": [
    {
     "name": "stdout",
     "output_type": "stream",
     "text": [
      "training accuracy: 0.96425\n",
      "time taken to predict training data: 187.34S\n",
      "training accuracy: 0.9443\n",
      "time taken to predict training data: 32.06S\n"
     ]
    }
   ],
   "source": [
    "steps = [('scaler',StandardScaler()), ('knn',KNeighborsClassifier(algorithm='brute', n_jobs=8))]\n",
    "pipelineb1 = Pipeline(steps)\n",
    "pipelineb1.fit(x_train, y_train)\n",
    "\n",
    "start_time = time.time()\n",
    "y_hat = pipelineb1.predict(x_train)\n",
    "timetaken = round(time.time()-start_time, 2)\n",
    "print(f'training accuracy: {accuracy_score(y_train, y_hat)}')\n",
    "print(f'time taken to predict training data: {timetaken}S')\n",
    "\n",
    "start_time = time.time()\n",
    "Y_hat = pipelineb1.predict(x_test)\n",
    "timetaken = round(time.time()-start_time, 2)\n",
    "print(f'training accuracy: {accuracy_score(y_test, Y_hat)}')\n",
    "print(f'time taken to predict training data: {timetaken}S')"
   ]
  },
  {
   "cell_type": "code",
   "execution_count": 20,
   "metadata": {
    "scrolled": true
   },
   "outputs": [
    {
     "name": "stdout",
     "output_type": "stream",
     "text": [
      "training accuracy: 0.9675833333333334\n",
      "time taken to predict training data: 163.1S\n",
      "training accuracy: 0.9469\n",
      "time taken to train on test data: 24.96S\n"
     ]
    }
   ],
   "source": [
    "b1 = KNeighborsClassifier(algorithm='brute', n_jobs=8)\n",
    "b1.fit(pca_train, y_train)\n",
    "\n",
    "start_time = time.time()\n",
    "y_hat = b1.predict(pca_train)\n",
    "timetaken = round(time.time()-start_time, 2)\n",
    "print(f'training accuracy: {accuracy_score(y_train, y_hat)}')\n",
    "print(f'time taken to predict training data: {timetaken}S')\n",
    "\n",
    "start_time = time.time()\n",
    "Y_hat = b1.predict(pca_test)\n",
    "timetaken = round(time.time()-start_time, 2)\n",
    "print(f'training accuracy: {accuracy_score(y_test, Y_hat)}')\n",
    "print(f'time taken to train on test data: {timetaken}S')"
   ]
  },
  {
   "cell_type": "markdown",
   "metadata": {},
   "source": [
    "# Results\n",
    "With the exception of a mild difference in the KNN, the non-reduced data is more accurate in every case. \n",
    "\n",
    "With regards to training time, the results are divided. KNN, SGD, SVM train faster, with KNN only being mildly faster while the other tree based algorithms are significantly slower.\n",
    "\n",
    "It is unknown why in the initial example of different variance parameters on PCA, the data without any dimensional reduction performed the worse. A possible explanation for this is that since the data was already scaled with the standard scaler, the scaled non-reduced data made the training time worse when unscaled data would perform the best.\n",
    "\n",
    "The random forest experiment is tested again below\n",
    "- RF with unscaled data\n",
    "- RF with PCA reduced data\n",
    "- RF with scaled data"
   ]
  },
  {
   "cell_type": "code",
   "execution_count": 21,
   "metadata": {},
   "outputs": [
    {
     "name": "stdout",
     "output_type": "stream",
     "text": [
      "time taken without PCA: 42.64S\n",
      "training accuracy: 1.0\n",
      "testing accuracy: 0.9687\n"
     ]
    }
   ],
   "source": [
    "a1 = RandomForestClassifier()\n",
    "start_time = time.time()\n",
    "a1.fit(x_train, y_train)\n",
    "timetaken = round(time.time()-start_time, 2)\n",
    "print(f'time taken without PCA: {timetaken}S')\n",
    "\n",
    "y_hat = a1.predict(x_train)\n",
    "print(f'training accuracy: {accuracy_score(y_train, y_hat)}')\n",
    "y_hat = a1.predict(x_test)\n",
    "print(f'testing accuracy: {accuracy_score(y_test, y_hat)}')"
   ]
  },
  {
   "cell_type": "code",
   "execution_count": 22,
   "metadata": {},
   "outputs": [
    {
     "name": "stdout",
     "output_type": "stream",
     "text": [
      "time taken with PCA: 140.54S\n",
      "training accuracy: 1.0\n",
      "testing accuracy: 0.9363\n"
     ]
    }
   ],
   "source": [
    "a1 = RandomForestClassifier()\n",
    "start_time = time.time()\n",
    "a1.fit(pca_train, y_train)\n",
    "timetaken = round(time.time()-start_time, 2)\n",
    "print(f'time taken with PCA: {timetaken}S')\n",
    "\n",
    "y_hat = a1.predict(pca_train)\n",
    "print(f'training accuracy: {accuracy_score(y_train, y_hat)}')\n",
    "y_hat = a1.predict(pca_test)\n",
    "print(f'testing accuracy: {accuracy_score(y_test, y_hat)}')"
   ]
  },
  {
   "cell_type": "code",
   "execution_count": 23,
   "metadata": {},
   "outputs": [
    {
     "name": "stdout",
     "output_type": "stream",
     "text": [
      "time taken without PCA: 42.79S\n",
      "training accuracy: 1.0\n",
      "testing accuracy: 0.9596\n"
     ]
    }
   ],
   "source": [
    "a1 = RandomForestClassifier()\n",
    "start_time = time.time()\n",
    "a1.fit(x_train_, y_train)\n",
    "timetaken = round(time.time()-start_time, 2)\n",
    "print(f'time taken without PCA: {timetaken}S')\n",
    "\n",
    "y_hat = a1.predict(x_train_)\n",
    "print(f'training accuracy: {accuracy_score(y_train, y_hat)}')\n",
    "y_hat = a1.predict(x_test_)\n",
    "print(f'testing accuracy: {accuracy_score(y_test, y_hat)}')"
   ]
  },
  {
   "cell_type": "markdown",
   "metadata": {},
   "source": [
    "# Conclusions\n",
    "Scaling the data has a negligible effect on training time and accuracy in the random forest test.\n",
    "\n",
    "Principal component analysis does not consistently improve the training time or accuracy of machine learning models. The accuracy is consistently worse to varying degrees, with the exception of linear space methods. While the change in training time is dependent on what type of algorithm is being used for classification; it can be concluded that PCA is definitively worse at affecting traiing time for tree based methods."
   ]
  }
 ],
 "metadata": {
  "kernelspec": {
   "display_name": "Python 3",
   "language": "python",
   "name": "python3"
  },
  "language_info": {
   "codemirror_mode": {
    "name": "ipython",
    "version": 3
   },
   "file_extension": ".py",
   "mimetype": "text/x-python",
   "name": "python",
   "nbconvert_exporter": "python",
   "pygments_lexer": "ipython3",
   "version": "3.8.5"
  }
 },
 "nbformat": 4,
 "nbformat_minor": 4
}
